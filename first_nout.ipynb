{
 "cells": [
  {
   "cell_type": "markdown",
   "id": "21155d62",
   "metadata": {},
   "source": [
    "#   Заголовок 1-го рівня\n",
    "### Заголовок 3-го рівня\n"
   ]
  },
  {
   "cell_type": "code",
   "execution_count": 2,
   "id": "24a61a70",
   "metadata": {},
   "outputs": [
    {
     "ename": "SyntaxError",
     "evalue": "invalid syntax (2913924395.py, line 1)",
     "output_type": "error",
     "traceback": [
      "\u001b[1;36m  Cell \u001b[1;32mIn[2], line 1\u001b[1;36m\u001b[0m\n\u001b[1;33m    Моє навчання з використанням Jupyter Notebook проходить успішно!\u001b[0m\n\u001b[1;37m        ^\u001b[0m\n\u001b[1;31mSyntaxError\u001b[0m\u001b[1;31m:\u001b[0m invalid syntax\n"
     ]
    }
   ],
   "source": [
    "Моє навчання з використанням Jupyter Notebook проходить успішно!"
   ]
  },
  {
   "cell_type": "code",
   "execution_count": 3,
   "id": "76422f31",
   "metadata": {},
   "outputs": [
    {
     "data": {
      "text/plain": [
       "426"
      ]
     },
     "execution_count": 3,
     "metadata": {},
     "output_type": "execute_result"
    }
   ],
   "source": [
    " a = 123\n",
    " b = 303\n",
    " a + b\n",
    "    "
   ]
  },
  {
   "cell_type": "markdown",
   "id": "e3193dde",
   "metadata": {},
   "source": [
    "![Ukraine](https://www.svyatobum.com.ua/nakleyka-patriotichna-vse-byde-ukraina-10kh15sm-d8565.htm?tab=description)"
   ]
  },
  {
   "cell_type": "markdown",
   "id": "79834473",
   "metadata": {},
   "source": [
    "![Alt-text](https://planbphoto.com/wp-content/uploads/vse-bude-Ukraina-.jpg)"
   ]
  },
  {
   "cell_type": "code",
   "execution_count": null,
   "id": "0a607d7d",
   "metadata": {},
   "outputs": [],
   "source": []
  }
 ],
 "metadata": {
  "kernelspec": {
   "display_name": "Python 3 (ipykernel)",
   "language": "python",
   "name": "python3"
  },
  "language_info": {
   "codemirror_mode": {
    "name": "ipython",
    "version": 3
   },
   "file_extension": ".py",
   "mimetype": "text/x-python",
   "name": "python",
   "nbconvert_exporter": "python",
   "pygments_lexer": "ipython3",
   "version": "3.10.11"
  }
 },
 "nbformat": 4,
 "nbformat_minor": 5
}
