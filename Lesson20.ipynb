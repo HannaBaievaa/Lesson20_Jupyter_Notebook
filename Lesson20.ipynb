{
 "cells": [
  {
   "cell_type": "markdown",
   "id": "44aa07fe",
   "metadata": {},
   "source": [
    "|year|rank|company|revenue|profit|\n",
    "|:---|:---|:---|:---|:---|\n",
    "|1955|229|Norton|135.0|N.A.|\n",
    "|1955|291|Schitz Brewing|100.0|N.A.|\n",
    "|1955|295|Pacific Vegetable Oil|97.9|N.A.|\n",
    "|1955|297|Liebmann Breweries|96.0|N.A.|\n",
    "|1955|353|Minneapolis-Moline|77.4|N.A.|"
   ]
  },
  {
   "cell_type": "code",
   "execution_count": 1,
   "id": "80d142a9",
   "metadata": {},
   "outputs": [
    {
     "name": "stdout",
     "output_type": "stream",
     "text": [
      "2.34 ms ± 55.7 µs per loop (mean ± std. dev. of 7 runs, 100 loops each)\n"
     ]
    }
   ],
   "source": [
    "%%timeit\n",
    "import random\n",
    "from random_words import RandomWords\n",
    "\n",
    "int_list = []\n",
    "for i in range(0, 5000) :\n",
    "    int_list.append(random.randint(0,1000))"
   ]
  },
  {
   "cell_type": "code",
   "execution_count": 5,
   "id": "a54c5cac",
   "metadata": {},
   "outputs": [
    {
     "name": "stdout",
     "output_type": "stream",
     "text": [
      "762 µs ± 22.8 µs per loop (mean ± std. dev. of 7 runs, 1,000 loops each)\n"
     ]
    }
   ],
   "source": [
    "%%timeit\n",
    "import random\n",
    "from random_words import RandomWords\n",
    "\n",
    "float_list = []\n",
    "for f in range(0, 5000) :\n",
    "    float_list.append(random.uniform(0.1,100.0))"
   ]
  },
  {
   "cell_type": "code",
   "execution_count": 7,
   "id": "b320ff94",
   "metadata": {},
   "outputs": [
    {
     "name": "stdout",
     "output_type": "stream",
     "text": [
      "964 ms ± 18 ms per loop (mean ± std. dev. of 7 runs, 1 loop each)\n"
     ]
    }
   ],
   "source": [
    "%%timeit\n",
    "import random\n",
    "from random_words import RandomWords\n",
    "\n",
    "str_list = []\n",
    "w = RandomWords()\n",
    "for s in range(0, 5000) :\n",
    "    str_list.append(w.random_word())\n"
   ]
  }
 ],
 "metadata": {
  "kernelspec": {
   "display_name": "Python 3 (ipykernel)",
   "language": "python",
   "name": "python3"
  },
  "language_info": {
   "codemirror_mode": {
    "name": "ipython",
    "version": 3
   },
   "file_extension": ".py",
   "mimetype": "text/x-python",
   "name": "python",
   "nbconvert_exporter": "python",
   "pygments_lexer": "ipython3",
   "version": "3.10.11"
  }
 },
 "nbformat": 4,
 "nbformat_minor": 5
}
